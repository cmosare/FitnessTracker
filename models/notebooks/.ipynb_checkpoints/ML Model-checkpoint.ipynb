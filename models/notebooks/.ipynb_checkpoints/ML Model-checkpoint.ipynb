{
 "cells": [
  {
   "cell_type": "code",
   "execution_count": 161,
   "id": "ae990171-1fa7-4f63-b931-63488e8d05de",
   "metadata": {},
   "outputs": [],
   "source": [
    "import pandas as pd\n",
    "import numpy as np\n",
    "pd.set_option(\"display.max_columns\", 50)\n",
    "\n",
    "from sklearn.preprocessing import StandardScaler\n",
    "from sklearn.model_selection import train_test_split\n",
    "from sklearn.linear_model import LinearRegression\n",
    "from sklearn.ensemble import RandomForestRegressor\n",
    "import xgboost as xgb\n",
    "from sklearn.metrics import mean_absolute_error, r2_score"
   ]
  },
  {
   "cell_type": "code",
   "execution_count": 151,
   "id": "f97b9620-7c16-4d42-9b4f-0146b42755c7",
   "metadata": {},
   "outputs": [],
   "source": [
    "physio = pd.read_csv('physiological_cycles.csv')\n",
    "journal = pd.read_csv('journal_entries.csv')"
   ]
  },
  {
   "cell_type": "markdown",
   "id": "9f7e3134-3046-4a01-a0c2-41a063c88060",
   "metadata": {},
   "source": [
    "<h4>Data Cleaning</h4>"
   ]
  },
  {
   "cell_type": "code",
   "execution_count": 152,
   "id": "113e7151-69a6-4b80-a048-d0031696e091",
   "metadata": {},
   "outputs": [],
   "source": [
    "# Convert 'Cycle start time' to datetime\n",
    "journal[\"Cycle start time\"] = pd.to_datetime(journal[\"Cycle start time\"])\n",
    "journal[\"Cycle end time\"] = pd.to_datetime(journal[\"Cycle end time\"])\n",
    "\n",
    "# Filter for specific 'Question text' (replace with your picks)\n",
    "desired_questions = [\"Viewed a screen device in bed?\", \"Have any alcoholic drinks?\", \"See artificial light upon waking up?\",\n",
    "                    \"Experience bloating?\", \"Read (non-screened device) while in bed?\", \"See direct sunlight upon waking up?\",\n",
    "                    \"Feeling sick or ill?\", \"Consume fruits and/or vegetables?\", \"Avoid consuming processed foods?\",\n",
    "                    \"Eat all your meals during daylight hours?\"]  \n",
    "filtered_journal = journal[journal[\"Question text\"].isin(desired_questions)]\n",
    "\n",
    "# Transpose questions as columns\n",
    "pivot_journal = filtered_journal.pivot_table(\n",
    "    index=[\"Cycle start time\", \"Cycle end time\"], \n",
    "    columns=\"Question text\", \n",
    "    values=\"Answered yes\", \n",
    "    aggfunc=\"sum\"\n",
    ").reset_index()\n",
    "\n",
    "#Fill nans with 0, assuming False for the day with no entry\n",
    "pivot_journal = pivot_journal.fillna(0.0)\n",
    "pivot_journal = pivot_journal.reset_index(drop=True)\n",
    "\n",
    "# Shift metrics up one row (previous cycle’s value that impacted recovery)\n",
    "physio[\"Previous energy burned\"] = physio[\"Energy burned (cal)\"].shift(-1)\n",
    "physio[\"Previous max hr\"] = physio[\"Max HR (bpm)\"].shift(-1)\n",
    "physio[\"Previous average hr\"] = physio[\"Average HR (bpm)\"].shift(-1)\n",
    "\n",
    "# Clean datetime values\n",
    "physio[\"Cycle start time\"] = pd.to_datetime(physio[\"Cycle start time\"])\n",
    "physio[\"Cycle end time\"] = pd.to_datetime(physio[\"Cycle end time\"])\n",
    "physio[\"Sleep onset\"] = pd.to_datetime(physio[\"Sleep onset\"])\n",
    "physio[\"Wake onset\"] = pd.to_datetime(physio[\"Wake onset\"])\n",
    "\n",
    "# Convert numeric value nans with median of column\n",
    "numeric_cols = physio.select_dtypes(include=[\"int64\", \"float64\"]).columns\n",
    "for col in numeric_cols:\n",
    "    median_value = physio[col].median()\n",
    "    physio.loc[:, col] = physio[col].fillna(median_value)\n",
    "    \n",
    "selected_physio_columns = ['Cycle start time', 'Cycle end time',\n",
    "       'Recovery score %', 'Resting heart rate (bpm)',\n",
    "       'Heart rate variability (ms)', \n",
    "       'Day Strain','Previous energy burned','Previous max hr', 'Previous average hr',\n",
    "       'Sleep onset', 'Wake onset', 'Sleep performance %',\n",
    "       'Asleep duration (min)',\n",
    "       'In bed duration (min)', 'Light sleep duration (min)',\n",
    "       'Deep (SWS) duration (min)', 'REM duration (min)',\n",
    "       'Awake duration (min)', 'Sleep consistency %']\n",
    "df = physio[selected_physio_columns]\n",
    "df = df.merge(pivot_journal, how='left', on=['Cycle start time', 'Cycle end time'])\n",
    "\n",
    "# Fill merged nans with 0, assuming False like before for the day with no entry logged\n",
    "numeric_cols_journal = pivot_journal.select_dtypes(include=[\"int64\", \"float64\"]).columns\n",
    "for col in numeric_cols_journal:\n",
    "    df.loc[:, col] = df[col].fillna(0)\n",
    "\n",
    "# Clean up column names\n",
    "df.columns = df.columns.str.lower().str.replace(\" \", \"_\")\n",
    "df.columns = df.columns.str.replace(\"(\", \"\")\n",
    "df.columns = df.columns.str.replace(\")\", \"\")\n",
    "df.columns = df.columns.str.replace(\"?\", \"\")"
   ]
  },
  {
   "cell_type": "markdown",
   "id": "efe2f035-93ff-4b1b-824f-44fee82eb9cc",
   "metadata": {},
   "source": [
    "<h4>Feature Engineering</h4>"
   ]
  },
  {
   "cell_type": "code",
   "execution_count": 154,
   "id": "75a38ee1-c8ea-47c4-b755-da7d2e083758",
   "metadata": {
    "scrolled": true
   },
   "outputs": [],
   "source": [
    "# Extract features from 'Cycle start time'\n",
    "df[\"cycle_day_of_week\"] = df[\"cycle_start_time\"].dt.dayofweek  # 0-6 (Mon-Sun)\n",
    "df[\"sleep_start_hour\"] = df[\"sleep_onset\"].dt.hour              # 0-23\n",
    "df[\"start_day\"] = df[\"cycle_start_time\"].dt.day                # 1-31\n",
    "\n",
    "# Extract features from 'Cycle end time'\n",
    "df[\"end_day_of_week\"] = df[\"cycle_end_time\"].dt.dayofweek\n",
    "df[\"sleep_end_hour\"] = df[\"wake_onset\"].dt.hour\n",
    "\n",
    "# Extract cycle duration\n",
    "df[\"cycle_duration\"] = (df[\"cycle_end_time\"] - df[\"cycle_start_time\"]).dt.total_seconds() / 60\n",
    "df[\"time_awake\"] = df[\"cycle_duration\"] - df[\"asleep_duration_min\"]\n",
    "df[\"awake_sleep_ratio\"] = df[\"time_awake\"]/df[\"asleep_duration_min\"]\n",
    "\n",
    "# Only use data where valid cycles and sleep exist\n",
    "df = df[~df[\"cycle_end_time\"].isna()]\n",
    "df = df[~df[\"cycle_start_time\"].isna()]\n",
    "df = df[~df[\"sleep_onset\"].isna()]\n",
    "df = df[~df[\"wake_onset\"].isna()]\n",
    "\n",
    "del df[\"cycle_start_time\"]\n",
    "del df[\"cycle_end_time\"]\n",
    "del df[\"sleep_onset\"]\n",
    "del df[\"wake_onset\"]"
   ]
  },
  {
   "cell_type": "markdown",
   "id": "516084e9-cb36-4987-b35d-d879e2b5a918",
   "metadata": {},
   "source": [
    "<h4>Train Model</h4>"
   ]
  },
  {
   "cell_type": "code",
   "execution_count": null,
   "id": "b431a1e4-810b-410b-8c8d-94f0850ae270",
   "metadata": {
    "scrolled": true
   },
   "outputs": [],
   "source": [
    "# Identify numeric columns (excluding target 'recovery' for now)\n",
    "numeric_cols = df.select_dtypes(include=[\"int64\", \"float64\"]).columns\n",
    "features = [col for col in numeric_cols if col != \"recovery_score_%\"]  # All numeric except target\n",
    "\n",
    "# Standardize features\n",
    "scaler = StandardScaler()\n",
    "df[features] = scaler.fit_transform(df[features])\n",
    "\n",
    "# Check it\n",
    "print(\"Means:\", df[features].mean().round(2))  # Should be ~0\n",
    "print(\"Stds:\", df[features].std().round(2))    # Should be ~1"
   ]
  },
  {
   "cell_type": "code",
   "execution_count": 166,
   "id": "fa224992-80c2-46e9-8ae2-5e18a44c3932",
   "metadata": {},
   "outputs": [
    {
     "name": "stdout",
     "output_type": "stream",
     "text": [
      "Linear Regression: MAE = 6.64, R² = 0.901\n",
      "Random Forest: MAE = 6.23, R² = 0.898\n",
      "XGBoost: MAE = 7.42, R² = 0.861\n"
     ]
    }
   ],
   "source": [
    "# Features and target\n",
    "X = df[features].values  # All numeric except 'recovery'\n",
    "y = df[\"recovery_score_%\"].values\n",
    "\n",
    "# Split data (80% train, 20% test)\n",
    "X_train, X_test, y_train, y_test = train_test_split(X, y, test_size=0.15, random_state=42)\n",
    "\n",
    "# Models to test\n",
    "models = {\n",
    "    \"Linear Regression\": LinearRegression(),\n",
    "    \"Random Forest\": RandomForestRegressor(n_estimators=100, random_state=42),\n",
    "    \"XGBoost\": xgb.XGBRegressor(objective=\"reg:squarederror\", random_state=42)\n",
    "}\n",
    "\n",
    "# Train and evaluate\n",
    "for name, model in models.items():\n",
    "    model.fit(X_train, y_train)\n",
    "    y_pred = model.predict(X_test)\n",
    "    mae = mean_absolute_error(y_test, y_pred)\n",
    "    r2 = r2_score(y_test, y_pred)\n",
    "    print(f\"{name}: MAE = {mae:.2f}, R² = {r2:.3f}\")"
   ]
  },
  {
   "cell_type": "code",
   "execution_count": 165,
   "id": "82cad335-b92a-4b47-96b0-a5047865b796",
   "metadata": {},
   "outputs": [
    {
     "name": "stdout",
     "output_type": "stream",
     "text": [
      "\n",
      "Random Forest Feature Importances:\n",
      "heart_rate_variability_ms        0.726333\n",
      "asleep_duration_min              0.062693\n",
      "awake_sleep_ratio                0.048380\n",
      "sleep_performance_%              0.036678\n",
      "deep_sws_duration_min            0.014371\n",
      "viewed_a_screen_device_in_bed    0.011117\n",
      "resting_heart_rate_bpm           0.010124\n",
      "sleep_consistency_%              0.009335\n",
      "rem_duration_min                 0.009151\n",
      "awake_duration_min               0.008259\n",
      "dtype: float32\n"
     ]
    }
   ],
   "source": [
    "# Feature importance (for Random Forest)\n",
    "rf = models[\"XGBoost\"]\n",
    "importances = pd.Series(rf.feature_importances_, index=features).sort_values(ascending=False)\n",
    "print(\"\\nRandom Forest Feature Importances:\")\n",
    "print(importances.head(10))"
   ]
  },
  {
   "cell_type": "code",
   "execution_count": 169,
   "id": "b9351df6-e0a3-4c02-95aa-9e69ee8c2ad0",
   "metadata": {},
   "outputs": [],
   "source": [
    "activities = pd.read_csv('workouts.csv')"
   ]
  },
  {
   "cell_type": "code",
   "execution_count": 171,
   "id": "27c502fe-d9ed-4dd7-83d7-d03f3396917c",
   "metadata": {},
   "outputs": [],
   "source": [
    "# One-hot encode 'Activity name'\n",
    "activity_dummies = pd.get_dummies(activities[\"Activity name\"], prefix=\"is\")\n",
    "\n",
    "# Combine with original data\n",
    "activities_transformed = pd.concat([activities.drop(\"Activity name\", axis=1), activity_dummies], axis=1)"
   ]
  },
  {
   "cell_type": "code",
   "execution_count": null,
   "id": "417108b9-4f56-4f88-841e-37a8062cf881",
   "metadata": {},
   "outputs": [],
   "source": []
  }
 ],
 "metadata": {
  "kernelspec": {
   "display_name": "Python 3 (ipykernel)",
   "language": "python",
   "name": "python3"
  },
  "language_info": {
   "codemirror_mode": {
    "name": "ipython",
    "version": 3
   },
   "file_extension": ".py",
   "mimetype": "text/x-python",
   "name": "python",
   "nbconvert_exporter": "python",
   "pygments_lexer": "ipython3",
   "version": "3.11.5"
  }
 },
 "nbformat": 4,
 "nbformat_minor": 5
}
